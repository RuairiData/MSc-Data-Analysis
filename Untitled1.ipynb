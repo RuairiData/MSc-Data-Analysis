{
 "cells": [
  {
   "cell_type": "code",
   "execution_count": 17,
   "id": "aa5be7c3",
   "metadata": {},
   "outputs": [],
   "source": [
    "import pandas as pd\n",
    "import numpy as np\n",
    "import matplotlib.pyplot as plt\n"
   ]
  },
  {
   "cell_type": "code",
   "execution_count": 22,
   "id": "cf66bb2d",
   "metadata": {},
   "outputs": [],
   "source": [
    "df = pd.read_csv(\"PEA03.20231013T141043.csv\")"
   ]
  },
  {
   "cell_type": "code",
   "execution_count": 23,
   "id": "e1c40516",
   "metadata": {},
   "outputs": [
    {
     "data": {
      "text/html": [
       "<div>\n",
       "<style scoped>\n",
       "    .dataframe tbody tr th:only-of-type {\n",
       "        vertical-align: middle;\n",
       "    }\n",
       "\n",
       "    .dataframe tbody tr th {\n",
       "        vertical-align: top;\n",
       "    }\n",
       "\n",
       "    .dataframe thead th {\n",
       "        text-align: right;\n",
       "    }\n",
       "</style>\n",
       "<table border=\"1\" class=\"dataframe\">\n",
       "  <thead>\n",
       "    <tr style=\"text-align: right;\">\n",
       "      <th></th>\n",
       "      <th>STATISTIC Label</th>\n",
       "      <th>Year</th>\n",
       "      <th>Age Group</th>\n",
       "      <th>Sex</th>\n",
       "      <th>Inward or Outward Flow</th>\n",
       "      <th>UNIT</th>\n",
       "      <th>VALUE</th>\n",
       "    </tr>\n",
       "  </thead>\n",
       "  <tbody>\n",
       "    <tr>\n",
       "      <th>0</th>\n",
       "      <td>Estimated Migration (Persons in April)</td>\n",
       "      <td>1987</td>\n",
       "      <td>All ages</td>\n",
       "      <td>Both sexes</td>\n",
       "      <td>Net migration</td>\n",
       "      <td>Thousand</td>\n",
       "      <td>-23.0</td>\n",
       "    </tr>\n",
       "    <tr>\n",
       "      <th>1</th>\n",
       "      <td>Estimated Migration (Persons in April)</td>\n",
       "      <td>1987</td>\n",
       "      <td>All ages</td>\n",
       "      <td>Both sexes</td>\n",
       "      <td>Emigrants: All destinations</td>\n",
       "      <td>Thousand</td>\n",
       "      <td>40.2</td>\n",
       "    </tr>\n",
       "    <tr>\n",
       "      <th>2</th>\n",
       "      <td>Estimated Migration (Persons in April)</td>\n",
       "      <td>1987</td>\n",
       "      <td>All ages</td>\n",
       "      <td>Both sexes</td>\n",
       "      <td>Immigrants: All origins</td>\n",
       "      <td>Thousand</td>\n",
       "      <td>17.2</td>\n",
       "    </tr>\n",
       "    <tr>\n",
       "      <th>3</th>\n",
       "      <td>Estimated Migration (Persons in April)</td>\n",
       "      <td>1987</td>\n",
       "      <td>All ages</td>\n",
       "      <td>Male</td>\n",
       "      <td>Net migration</td>\n",
       "      <td>Thousand</td>\n",
       "      <td>NaN</td>\n",
       "    </tr>\n",
       "    <tr>\n",
       "      <th>4</th>\n",
       "      <td>Estimated Migration (Persons in April)</td>\n",
       "      <td>1987</td>\n",
       "      <td>All ages</td>\n",
       "      <td>Male</td>\n",
       "      <td>Emigrants: All destinations</td>\n",
       "      <td>Thousand</td>\n",
       "      <td>NaN</td>\n",
       "    </tr>\n",
       "  </tbody>\n",
       "</table>\n",
       "</div>"
      ],
      "text/plain": [
       "                          STATISTIC Label  Year Age Group         Sex  \\\n",
       "0  Estimated Migration (Persons in April)  1987  All ages  Both sexes   \n",
       "1  Estimated Migration (Persons in April)  1987  All ages  Both sexes   \n",
       "2  Estimated Migration (Persons in April)  1987  All ages  Both sexes   \n",
       "3  Estimated Migration (Persons in April)  1987  All ages        Male   \n",
       "4  Estimated Migration (Persons in April)  1987  All ages        Male   \n",
       "\n",
       "        Inward or Outward Flow      UNIT  VALUE  \n",
       "0                Net migration  Thousand  -23.0  \n",
       "1  Emigrants: All destinations  Thousand   40.2  \n",
       "2      Immigrants: All origins  Thousand   17.2  \n",
       "3                Net migration  Thousand    NaN  \n",
       "4  Emigrants: All destinations  Thousand    NaN  "
      ]
     },
     "execution_count": 23,
     "metadata": {},
     "output_type": "execute_result"
    }
   ],
   "source": [
    "df.head()"
   ]
  },
  {
   "cell_type": "code",
   "execution_count": 24,
   "id": "79a48573",
   "metadata": {},
   "outputs": [
    {
     "data": {
      "text/plain": [
       "(1998, 7)"
      ]
     },
     "execution_count": 24,
     "metadata": {},
     "output_type": "execute_result"
    }
   ],
   "source": [
    "df.shape"
   ]
  },
  {
   "cell_type": "code",
   "execution_count": 25,
   "id": "1a292fa1",
   "metadata": {},
   "outputs": [
    {
     "name": "stdout",
     "output_type": "stream",
     "text": [
      "<class 'pandas.core.frame.DataFrame'>\n",
      "RangeIndex: 1998 entries, 0 to 1997\n",
      "Data columns (total 7 columns):\n",
      " #   Column                  Non-Null Count  Dtype  \n",
      "---  ------                  --------------  -----  \n",
      " 0   STATISTIC Label         1998 non-null   object \n",
      " 1   Year                    1998 non-null   int64  \n",
      " 2   Age Group               1998 non-null   object \n",
      " 3   Sex                     1998 non-null   object \n",
      " 4   Inward or Outward Flow  1998 non-null   object \n",
      " 5   UNIT                    1998 non-null   object \n",
      " 6   VALUE                   1683 non-null   float64\n",
      "dtypes: float64(1), int64(1), object(5)\n",
      "memory usage: 109.4+ KB\n"
     ]
    }
   ],
   "source": [
    "df.info()"
   ]
  },
  {
   "cell_type": "code",
   "execution_count": 26,
   "id": "6061fdf3",
   "metadata": {},
   "outputs": [
    {
     "data": {
      "text/html": [
       "<div>\n",
       "<style scoped>\n",
       "    .dataframe tbody tr th:only-of-type {\n",
       "        vertical-align: middle;\n",
       "    }\n",
       "\n",
       "    .dataframe tbody tr th {\n",
       "        vertical-align: top;\n",
       "    }\n",
       "\n",
       "    .dataframe thead th {\n",
       "        text-align: right;\n",
       "    }\n",
       "</style>\n",
       "<table border=\"1\" class=\"dataframe\">\n",
       "  <thead>\n",
       "    <tr style=\"text-align: right;\">\n",
       "      <th></th>\n",
       "      <th>Year</th>\n",
       "      <th>VALUE</th>\n",
       "    </tr>\n",
       "  </thead>\n",
       "  <tbody>\n",
       "    <tr>\n",
       "      <th>count</th>\n",
       "      <td>1998.000000</td>\n",
       "      <td>1683.000000</td>\n",
       "    </tr>\n",
       "    <tr>\n",
       "      <th>mean</th>\n",
       "      <td>2005.000000</td>\n",
       "      <td>10.856625</td>\n",
       "    </tr>\n",
       "    <tr>\n",
       "      <th>std</th>\n",
       "      <td>10.679751</td>\n",
       "      <td>17.070445</td>\n",
       "    </tr>\n",
       "    <tr>\n",
       "      <th>min</th>\n",
       "      <td>1987.000000</td>\n",
       "      <td>-43.900000</td>\n",
       "    </tr>\n",
       "    <tr>\n",
       "      <th>25%</th>\n",
       "      <td>1996.000000</td>\n",
       "      <td>1.200000</td>\n",
       "    </tr>\n",
       "    <tr>\n",
       "      <th>50%</th>\n",
       "      <td>2005.000000</td>\n",
       "      <td>4.500000</td>\n",
       "    </tr>\n",
       "    <tr>\n",
       "      <th>75%</th>\n",
       "      <td>2014.000000</td>\n",
       "      <td>14.000000</td>\n",
       "    </tr>\n",
       "    <tr>\n",
       "      <th>max</th>\n",
       "      <td>2023.000000</td>\n",
       "      <td>151.100000</td>\n",
       "    </tr>\n",
       "  </tbody>\n",
       "</table>\n",
       "</div>"
      ],
      "text/plain": [
       "              Year        VALUE\n",
       "count  1998.000000  1683.000000\n",
       "mean   2005.000000    10.856625\n",
       "std      10.679751    17.070445\n",
       "min    1987.000000   -43.900000\n",
       "25%    1996.000000     1.200000\n",
       "50%    2005.000000     4.500000\n",
       "75%    2014.000000    14.000000\n",
       "max    2023.000000   151.100000"
      ]
     },
     "execution_count": 26,
     "metadata": {},
     "output_type": "execute_result"
    }
   ],
   "source": [
    "df.describe()"
   ]
  },
  {
   "cell_type": "code",
   "execution_count": 27,
   "id": "2110aad4",
   "metadata": {},
   "outputs": [
    {
     "data": {
      "text/html": [
       "<div>\n",
       "<style scoped>\n",
       "    .dataframe tbody tr th:only-of-type {\n",
       "        vertical-align: middle;\n",
       "    }\n",
       "\n",
       "    .dataframe tbody tr th {\n",
       "        vertical-align: top;\n",
       "    }\n",
       "\n",
       "    .dataframe thead th {\n",
       "        text-align: right;\n",
       "    }\n",
       "</style>\n",
       "<table border=\"1\" class=\"dataframe\">\n",
       "  <thead>\n",
       "    <tr style=\"text-align: right;\">\n",
       "      <th></th>\n",
       "      <th>STATISTIC Label</th>\n",
       "      <th>Year</th>\n",
       "      <th>Age Group</th>\n",
       "      <th>Sex</th>\n",
       "      <th>Inward or Outward Flow</th>\n",
       "      <th>UNIT</th>\n",
       "      <th>VALUE</th>\n",
       "    </tr>\n",
       "  </thead>\n",
       "  <tbody>\n",
       "    <tr>\n",
       "      <th>0</th>\n",
       "      <td>Estimated Migration (Persons in April)</td>\n",
       "      <td>1987</td>\n",
       "      <td>All ages</td>\n",
       "      <td>Both sexes</td>\n",
       "      <td>Net migration</td>\n",
       "      <td>Thousand</td>\n",
       "      <td>-23.0</td>\n",
       "    </tr>\n",
       "    <tr>\n",
       "      <th>1</th>\n",
       "      <td>Estimated Migration (Persons in April)</td>\n",
       "      <td>1987</td>\n",
       "      <td>All ages</td>\n",
       "      <td>Both sexes</td>\n",
       "      <td>Emigrants: All destinations</td>\n",
       "      <td>Thousand</td>\n",
       "      <td>40.2</td>\n",
       "    </tr>\n",
       "    <tr>\n",
       "      <th>2</th>\n",
       "      <td>Estimated Migration (Persons in April)</td>\n",
       "      <td>1987</td>\n",
       "      <td>All ages</td>\n",
       "      <td>Both sexes</td>\n",
       "      <td>Immigrants: All origins</td>\n",
       "      <td>Thousand</td>\n",
       "      <td>17.2</td>\n",
       "    </tr>\n",
       "    <tr>\n",
       "      <th>3</th>\n",
       "      <td>Estimated Migration (Persons in April)</td>\n",
       "      <td>1987</td>\n",
       "      <td>All ages</td>\n",
       "      <td>Male</td>\n",
       "      <td>Net migration</td>\n",
       "      <td>Thousand</td>\n",
       "      <td>NaN</td>\n",
       "    </tr>\n",
       "    <tr>\n",
       "      <th>4</th>\n",
       "      <td>Estimated Migration (Persons in April)</td>\n",
       "      <td>1987</td>\n",
       "      <td>All ages</td>\n",
       "      <td>Male</td>\n",
       "      <td>Emigrants: All destinations</td>\n",
       "      <td>Thousand</td>\n",
       "      <td>NaN</td>\n",
       "    </tr>\n",
       "    <tr>\n",
       "      <th>5</th>\n",
       "      <td>Estimated Migration (Persons in April)</td>\n",
       "      <td>1987</td>\n",
       "      <td>All ages</td>\n",
       "      <td>Male</td>\n",
       "      <td>Immigrants: All origins</td>\n",
       "      <td>Thousand</td>\n",
       "      <td>NaN</td>\n",
       "    </tr>\n",
       "    <tr>\n",
       "      <th>6</th>\n",
       "      <td>Estimated Migration (Persons in April)</td>\n",
       "      <td>1987</td>\n",
       "      <td>All ages</td>\n",
       "      <td>Female</td>\n",
       "      <td>Net migration</td>\n",
       "      <td>Thousand</td>\n",
       "      <td>NaN</td>\n",
       "    </tr>\n",
       "    <tr>\n",
       "      <th>7</th>\n",
       "      <td>Estimated Migration (Persons in April)</td>\n",
       "      <td>1987</td>\n",
       "      <td>All ages</td>\n",
       "      <td>Female</td>\n",
       "      <td>Emigrants: All destinations</td>\n",
       "      <td>Thousand</td>\n",
       "      <td>NaN</td>\n",
       "    </tr>\n",
       "    <tr>\n",
       "      <th>8</th>\n",
       "      <td>Estimated Migration (Persons in April)</td>\n",
       "      <td>1987</td>\n",
       "      <td>All ages</td>\n",
       "      <td>Female</td>\n",
       "      <td>Immigrants: All origins</td>\n",
       "      <td>Thousand</td>\n",
       "      <td>NaN</td>\n",
       "    </tr>\n",
       "    <tr>\n",
       "      <th>9</th>\n",
       "      <td>Estimated Migration (Persons in April)</td>\n",
       "      <td>1987</td>\n",
       "      <td>0 - 14 years</td>\n",
       "      <td>Both sexes</td>\n",
       "      <td>Net migration</td>\n",
       "      <td>Thousand</td>\n",
       "      <td>NaN</td>\n",
       "    </tr>\n",
       "  </tbody>\n",
       "</table>\n",
       "</div>"
      ],
      "text/plain": [
       "                          STATISTIC Label  Year     Age Group         Sex  \\\n",
       "0  Estimated Migration (Persons in April)  1987      All ages  Both sexes   \n",
       "1  Estimated Migration (Persons in April)  1987      All ages  Both sexes   \n",
       "2  Estimated Migration (Persons in April)  1987      All ages  Both sexes   \n",
       "3  Estimated Migration (Persons in April)  1987      All ages        Male   \n",
       "4  Estimated Migration (Persons in April)  1987      All ages        Male   \n",
       "5  Estimated Migration (Persons in April)  1987      All ages        Male   \n",
       "6  Estimated Migration (Persons in April)  1987      All ages      Female   \n",
       "7  Estimated Migration (Persons in April)  1987      All ages      Female   \n",
       "8  Estimated Migration (Persons in April)  1987      All ages      Female   \n",
       "9  Estimated Migration (Persons in April)  1987  0 - 14 years  Both sexes   \n",
       "\n",
       "        Inward or Outward Flow      UNIT  VALUE  \n",
       "0                Net migration  Thousand  -23.0  \n",
       "1  Emigrants: All destinations  Thousand   40.2  \n",
       "2      Immigrants: All origins  Thousand   17.2  \n",
       "3                Net migration  Thousand    NaN  \n",
       "4  Emigrants: All destinations  Thousand    NaN  \n",
       "5      Immigrants: All origins  Thousand    NaN  \n",
       "6                Net migration  Thousand    NaN  \n",
       "7  Emigrants: All destinations  Thousand    NaN  \n",
       "8      Immigrants: All origins  Thousand    NaN  \n",
       "9                Net migration  Thousand    NaN  "
      ]
     },
     "execution_count": 27,
     "metadata": {},
     "output_type": "execute_result"
    }
   ],
   "source": [
    "df.head(10)"
   ]
  },
  {
   "cell_type": "code",
   "execution_count": 30,
   "id": "f31b904e",
   "metadata": {},
   "outputs": [
    {
     "data": {
      "image/png": "[encoded data removed]",
      "text/plain": [
       "<Figure size 640x480 with 1 Axes>"
      ]
     },
     "metadata": {},
     "output_type": "display_data"
    }
   ],
   "source": [
    "df['VALUE'].plot(kind='bar')\n",
    "plt.show()"
   ]
  },
  {
   "cell_type": "code",
   "execution_count": 31,
   "id": "b2cbdbd5",
   "metadata": {},
   "outputs": [
    {
     "name": "stdout",
     "output_type": "stream",
     "text": [
      "<class 'pandas.core.frame.DataFrame'>\n",
      "RangeIndex: 1998 entries, 0 to 1997\n",
      "Data columns (total 7 columns):\n",
      " #   Column                  Non-Null Count  Dtype  \n",
      "---  ------                  --------------  -----  \n",
      " 0   STATISTIC Label         1998 non-null   object \n",
      " 1   Year                    1998 non-null   int64  \n",
      " 2   Age Group               1998 non-null   object \n",
      " 3   Sex                     1998 non-null   object \n",
      " 4   Inward or Outward Flow  1998 non-null   object \n",
      " 5   UNIT                    1998 non-null   object \n",
      " 6   VALUE                   1683 non-null   float64\n",
      "dtypes: float64(1), int64(1), object(5)\n",
      "memory usage: 109.4+ KB\n"
     ]
    }
   ],
   "source": [
    "df.info()"
   ]
  },
  {
   "cell_type": "code",
   "execution_count": 12,
   "id": "b67783cd",
   "metadata": {},
   "outputs": [
    {
     "name": "stdout",
     "output_type": "stream",
     "text": [
      "<class 'pandas.core.series.Series'>\n",
      "RangeIndex: 1998 entries, 0 to 1997\n",
      "Series name: Year\n",
      "Non-Null Count  Dtype\n",
      "--------------  -----\n",
      "1998 non-null   int64\n",
      "dtypes: int64(1)\n",
      "memory usage: 15.7 KB\n"
     ]
    }
   ],
   "source": [
    "df[\"Year\"].info()"
   ]
  },
  {
   "cell_type": "code",
   "execution_count": 13,
   "id": "b4cb11b9",
   "metadata": {},
   "outputs": [
    {
     "data": {
      "text/plain": [
       "count    1998.000000\n",
       "mean     2005.000000\n",
       "std        10.679751\n",
       "min      1987.000000\n",
       "25%      1996.000000\n",
       "50%      2005.000000\n",
       "75%      2014.000000\n",
       "max      2023.000000\n",
       "Name: Year, dtype: float64"
      ]
     },
     "execution_count": 13,
     "metadata": {},
     "output_type": "execute_result"
    }
   ],
   "source": [
    "df[\"Year\"].describe()"
   ]
  },
  {
   "cell_type": "code",
   "execution_count": 14,
   "id": "c17aa8df",
   "metadata": {},
   "outputs": [
    {
     "data": {
      "text/plain": [
       "array([1987, 1988, 1989, 1990, 1991, 1992, 1993, 1994, 1995, 1996, 1997,\n",
       "       1998, 1999, 2000, 2001, 2002, 2003, 2004, 2005, 2006, 2007, 2008,\n",
       "       2009, 2010, 2011, 2012, 2013, 2014, 2015, 2016, 2017, 2018, 2019,\n",
       "       2020, 2021, 2022, 2023], dtype=int64)"
      ]
     },
     "execution_count": 14,
     "metadata": {},
     "output_type": "execute_result"
    }
   ],
   "source": [
    "df[\"Year\"].unique()"
   ]
  },
  {
   "cell_type": "code",
   "execution_count": 15,
   "id": "a74600da",
   "metadata": {},
   "outputs": [
    {
     "data": {
      "text/plain": [
       "array(['Both sexes', 'Male', 'Female'], dtype=object)"
      ]
     },
     "execution_count": 15,
     "metadata": {},
     "output_type": "execute_result"
    }
   ],
   "source": [
    "df[\"Sex\"].unique()"
   ]
  },
  {
   "cell_type": "code",
   "execution_count": 16,
   "id": "c873578a",
   "metadata": {},
   "outputs": [
    {
     "ename": "TypeError",
     "evalue": "no numeric data to plot",
     "output_type": "error",
     "traceback": [
      "\u001b[1;31m---------------------------------------------------------------------------\u001b[0m",
      "\u001b[1;31mTypeError\u001b[0m                                 Traceback (most recent call last)",
      "Cell \u001b[1;32mIn[16], line 1\u001b[0m\n\u001b[1;32m----> 1\u001b[0m df[\u001b[38;5;124m'\u001b[39m\u001b[38;5;124mSex\u001b[39m\u001b[38;5;124m'\u001b[39m]\u001b[38;5;241m.\u001b[39mplot(kind\u001b[38;5;241m=\u001b[39m\u001b[38;5;124m'\u001b[39m\u001b[38;5;124mbar\u001b[39m\u001b[38;5;124m'\u001b[39m)\n\u001b[0;32m      2\u001b[0m plt\u001b[38;5;241m.\u001b[39mshow()\n",
      "File \u001b[1;32m~\\anaconda3\\Lib\\site-packages\\pandas\\plotting\\_core.py:1000\u001b[0m, in \u001b[0;36mPlotAccessor.__call__\u001b[1;34m(self, *args, **kwargs)\u001b[0m\n\u001b[0;32m    997\u001b[0m             label_name \u001b[38;5;241m=\u001b[39m label_kw \u001b[38;5;129;01mor\u001b[39;00m data\u001b[38;5;241m.\u001b[39mcolumns\n\u001b[0;32m    998\u001b[0m             data\u001b[38;5;241m.\u001b[39mcolumns \u001b[38;5;241m=\u001b[39m label_name\n\u001b[1;32m-> 1000\u001b[0m \u001b[38;5;28;01mreturn\u001b[39;00m plot_backend\u001b[38;5;241m.\u001b[39mplot(data, kind\u001b[38;5;241m=\u001b[39mkind, \u001b[38;5;241m*\u001b[39m\u001b[38;5;241m*\u001b[39mkwargs)\n",
      "File \u001b[1;32m~\\anaconda3\\Lib\\site-packages\\pandas\\plotting\\_matplotlib\\__init__.py:71\u001b[0m, in \u001b[0;36mplot\u001b[1;34m(data, kind, **kwargs)\u001b[0m\n\u001b[0;32m     69\u001b[0m         kwargs[\u001b[38;5;124m\"\u001b[39m\u001b[38;5;124max\u001b[39m\u001b[38;5;124m\"\u001b[39m] \u001b[38;5;241m=\u001b[39m \u001b[38;5;28mgetattr\u001b[39m(ax, \u001b[38;5;124m\"\u001b[39m\u001b[38;5;124mleft_ax\u001b[39m\u001b[38;5;124m\"\u001b[39m, ax)\n\u001b[0;32m     70\u001b[0m plot_obj \u001b[38;5;241m=\u001b[39m PLOT_CLASSES[kind](data, \u001b[38;5;241m*\u001b[39m\u001b[38;5;241m*\u001b[39mkwargs)\n\u001b[1;32m---> 71\u001b[0m plot_obj\u001b[38;5;241m.\u001b[39mgenerate()\n\u001b[0;32m     72\u001b[0m plot_obj\u001b[38;5;241m.\u001b[39mdraw()\n\u001b[0;32m     73\u001b[0m \u001b[38;5;28;01mreturn\u001b[39;00m plot_obj\u001b[38;5;241m.\u001b[39mresult\n",
      "File \u001b[1;32m~\\anaconda3\\Lib\\site-packages\\pandas\\plotting\\_matplotlib\\core.py:450\u001b[0m, in \u001b[0;36mMPLPlot.generate\u001b[1;34m(self)\u001b[0m\n\u001b[0;32m    448\u001b[0m \u001b[38;5;28;01mdef\u001b[39;00m \u001b[38;5;21mgenerate\u001b[39m(\u001b[38;5;28mself\u001b[39m) \u001b[38;5;241m-\u001b[39m\u001b[38;5;241m>\u001b[39m \u001b[38;5;28;01mNone\u001b[39;00m:\n\u001b[0;32m    449\u001b[0m     \u001b[38;5;28mself\u001b[39m\u001b[38;5;241m.\u001b[39m_args_adjust()\n\u001b[1;32m--> 450\u001b[0m     \u001b[38;5;28mself\u001b[39m\u001b[38;5;241m.\u001b[39m_compute_plot_data()\n\u001b[0;32m    451\u001b[0m     \u001b[38;5;28mself\u001b[39m\u001b[38;5;241m.\u001b[39m_setup_subplots()\n\u001b[0;32m    452\u001b[0m     \u001b[38;5;28mself\u001b[39m\u001b[38;5;241m.\u001b[39m_make_plot()\n",
      "File \u001b[1;32m~\\anaconda3\\Lib\\site-packages\\pandas\\plotting\\_matplotlib\\core.py:635\u001b[0m, in \u001b[0;36mMPLPlot._compute_plot_data\u001b[1;34m(self)\u001b[0m\n\u001b[0;32m    633\u001b[0m \u001b[38;5;66;03m# no non-numeric frames or series allowed\u001b[39;00m\n\u001b[0;32m    634\u001b[0m \u001b[38;5;28;01mif\u001b[39;00m is_empty:\n\u001b[1;32m--> 635\u001b[0m     \u001b[38;5;28;01mraise\u001b[39;00m \u001b[38;5;167;01mTypeError\u001b[39;00m(\u001b[38;5;124m\"\u001b[39m\u001b[38;5;124mno numeric data to plot\u001b[39m\u001b[38;5;124m\"\u001b[39m)\n\u001b[0;32m    637\u001b[0m \u001b[38;5;28mself\u001b[39m\u001b[38;5;241m.\u001b[39mdata \u001b[38;5;241m=\u001b[39m numeric_data\u001b[38;5;241m.\u001b[39mapply(\u001b[38;5;28mself\u001b[39m\u001b[38;5;241m.\u001b[39m_convert_to_ndarray)\n",
      "\u001b[1;31mTypeError\u001b[0m: no numeric data to plot"
     ]
    }
   ],
   "source": [
    "df['Sex'].plot(kind='bar')\n",
    "plt.show()"
   ]
  },
  {
   "cell_type": "code",
   "execution_count": null,
   "id": "23c2bee6",
   "metadata": {},
   "outputs": [],
   "source": []
  }
 ],
 "metadata": {
  "kernelspec": {
   "display_name": "Python 3 (ipykernel)",
   "language": "python",
   "name": "python3"
  },
  "language_info": {
   "codemirror_mode": {
    "name": "ipython",
    "version": 3
   },
   "file_extension": ".py",
   "mimetype": "text/x-python",
   "name": "python",
   "nbconvert_exporter": "python",
   "pygments_lexer": "ipython3",
   "version": "3.11.4"
  }
 },
 "nbformat": 4,
 "nbformat_minor": 5
}
